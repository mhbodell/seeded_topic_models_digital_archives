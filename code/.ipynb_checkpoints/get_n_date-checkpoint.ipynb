{
 "cells": [
  {
   "cell_type": "markdown",
   "metadata": {},
   "source": [
    "## Editions per year and paper"
   ]
  },
  {
   "cell_type": "code",
   "execution_count": null,
   "metadata": {},
   "outputs": [],
   "source": [
    "from collections import Counter\n",
    "from kblab import Archive\n",
    "from json import load\n",
    "import pandas as pd\n",
    "\n",
    "username = 'demo'\n",
    "password = 't89ughurguyqw476t8ayguhjtr'\n",
    "auth = (username ,password)\n",
    "a = Archive('https://datalab.kb.se', auth = auth)\n",
    "\n",
    "papers = ['DAGENS NYHETER','AFTONBLADET', 'EXPRESSEN', 'SVENSKA DAGBLADET'] #'DAGENS NYHETER', 'EXPRESSEN', 'SVENSKA DAGBLADET'\n",
    "\n",
    "\n",
    "cols = ['paper', 'year', 'N']\n",
    "year1 = 1945\n",
    "year2 = 2020\n",
    "\n",
    "df = pd.DataFrame(columns = cols)\n",
    "\n",
    "# find a specific issue of Aftonbladet\n",
    "for paper in papers:   \n",
    "    for year in range(year1, year2):\n",
    "        date = list()\n",
    "        for package_id in a.search({ 'label': paper + ' ' + str(year)}):\n",
    "            \n",
    "            try:\n",
    "                p = a.get(package_id)\n",
    "\n",
    "                meta = load(p.get_raw('meta.json'))\n",
    "                d = meta['created']\n",
    "\n",
    "                if d not in date:\n",
    "                    date.append(d)\n",
    "            \n",
    "            except:\n",
    "                print('Package ID: ' + package_id + ' does not work')\n",
    "                \n",
    "        df = df.append({'paper': paper, 'year': year, 'N' : len(date)},ignore_index=True)\n",
    "        #print(paper + ',' + str(year) + ',' + str(len(date)))\n",
    "\n",
    "\n",
    "print(df)"
   ]
  },
  {
   "cell_type": "code",
   "execution_count": 38,
   "metadata": {},
   "outputs": [],
   "source": [
    "df.to_csv(r'/home/r4/Documents/quality_check_lab/n_per_year_paper_part.csv')"
   ]
  },
  {
   "cell_type": "markdown",
   "metadata": {},
   "source": [
    "## Pages per year and paper"
   ]
  },
  {
   "cell_type": "code",
   "execution_count": null,
   "metadata": {},
   "outputs": [],
   "source": [
    "from collections import Counter\n",
    "from kblab import Archive\n",
    "from json import load\n",
    "import pandas as pd\n",
    "\n",
    "username = 'demo'\n",
    "password = 't89ughurguyqw476t8ayguhjtr'\n",
    "auth = (username ,password)\n",
    "a = Archive('https://datalab.kb.se', auth = auth)\n",
    "papers = ['DAGENS NYHETER','AFTONBLADET', 'EXPRESSEN', 'SVENSKA DAGBLADET'] #'DAGENS NYHETER', \n",
    "\n",
    "\n",
    "cols = ['paper', 'year', 'Npages']\n",
    "year1 = 1945\n",
    "year2 = 2019\n",
    "\n",
    "df = pd.DataFrame(columns = cols)\n",
    "\n",
    "# find a specific issue of Aftonbladet\n",
    "for paper in papers:   \n",
    "    for year in range(year1, year2):\n",
    "        Npages = 0\n",
    "        date = list()\n",
    "        for package_id in a.search({ 'label': paper + ' ' + str(year)}):\n",
    "            \n",
    "            try:\n",
    "                p = a.get(package_id)\n",
    "\n",
    "                flerged_package = flerge(package = p, level = 'Page')\n",
    "                Npages += len(flerged_package)\n",
    "            \n",
    "            except:\n",
    "                print('Package ID: ' + package_id + ' does not work')\n",
    "                \n",
    "        df = df.append({'paper': paper, 'year': year, 'Npages' : Npages},ignore_index=True)\n",
    "        #print(paper + ',' + str(year) + ',' + str(len(date)))\n"
   ]
  },
  {
   "cell_type": "code",
   "execution_count": null,
   "metadata": {},
   "outputs": [],
   "source": [
    "df.to_csv(r'/home/r4/Documents/quality_check_lab/npages_per_year_paper.csv')"
   ]
  }
 ],
 "metadata": {
  "kernelspec": {
   "display_name": "Python 3",
   "language": "python",
   "name": "python3"
  },
  "language_info": {
   "codemirror_mode": {
    "name": "ipython",
    "version": 3
   },
   "file_extension": ".py",
   "mimetype": "text/x-python",
   "name": "python",
   "nbconvert_exporter": "python",
   "pygments_lexer": "ipython3",
   "version": "3.7.4"
  }
 },
 "nbformat": 4,
 "nbformat_minor": 2
}
