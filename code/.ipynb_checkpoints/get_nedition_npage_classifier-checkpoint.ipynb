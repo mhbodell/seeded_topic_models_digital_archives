{
 "cells": [
  {
   "cell_type": "code",
   "execution_count": 51,
   "metadata": {},
   "outputs": [],
   "source": [
    "from collections import Counter\n",
    "from kblab import Archive\n",
    "from json import load\n",
    "import pandas as pd\n",
    "import os\n",
    "import re\n",
    "\n",
    "# set up admin\n",
    "username = 'demo'\n",
    "password = 't89ughurguyqw476t8ayguhjtr'\n",
    "auth = (username ,password)\n",
    "a = Archive('https://datalab.kb.se', auth = auth)\n",
    "\n",
    "# collect all file names\n",
    "file_names = os.listdir(\"/home/r4/Documents/data_media_group_threat/classifier_csv/all_labeled/\")\n",
    "\n",
    "# find dates\n",
    "newspaper_dates = [re.match(\"(.*?)_\",x).group(1) for x in file_names]\n",
    "newspaper_dates\n",
    "\n",
    "# find package id\n",
    "package_ids = [re.search(\"packageID-(.*).csv\",x).group(1) for x in file_names]\n",
    "package_ids\n",
    "\n",
    "# create output dataframe\n",
    "cols = ['paper_date',  'Neditions', 'Npages']\n",
    "df = pd.DataFrame(columns = cols)\n",
    "\n",
    "\n",
    "for i in range(0, len(newspaper_dates)):\n",
    "    newspaper_day = newspaper_dates[i]\n",
    "\n",
    "    packid = []\n",
    "    for package_id in a.search({\"label\": newspaper_day}):\n",
    "        try: \n",
    "            p = a.get(package_id)\n",
    "            if re.search(re.compile('dark-'), str(p)):\n",
    "                packid.append(package_id)\n",
    "        except:\n",
    "            print('Cannot load package')\n",
    "\n",
    "    if len(packid)>1:\n",
    "        packid2 = []\n",
    "        for pi in packid:\n",
    "            p = a.get(pi)\n",
    "            for fname in p:\n",
    "                if p[fname]['@type'] == 'Meta':\n",
    "                    try:\n",
    "                        meta_data = load(p.get_raw('meta.json'))\n",
    "                        title = meta_data['title']\n",
    "                        if title.replace(\" \", \"\") == newspaper_day.replace(\" \", \"\"):\n",
    "                            packid2.append(pi)\n",
    "                    except:\n",
    "                         print('Cannot load Meta data for: ' + newspaper_day)\n",
    "\n",
    "        Neditions = len(packid2)\n",
    "\n",
    "\n",
    "    else:\n",
    "        Neditions = len(packid)\n",
    "        \n",
    "    random_upplaga = package_ids[i]\n",
    "\n",
    "\n",
    "    if random_upplaga != 'NaN':\n",
    "        p = a.get(random_upplaga)\n",
    "        struc_data = load(p.get_raw('structure.json'))\n",
    "        cont_data =  load(p.get_raw('content.json'))\n",
    "        \n",
    "        Npages = 0\n",
    "        parts = len(struc_data)\n",
    "        \n",
    "        for p in range(0, parts):\n",
    "             Npages += len(struc_data[p]['has_part'])\n",
    "                \n",
    "        df = df.append({'paper_date': newspaper_day, 'Neditions' : Neditions, 'Npages': Npages},ignore_index=True)\n",
    "\n",
    "print(df)"
   ]
  },
  {
   "cell_type": "code",
   "execution_count": 55,
   "metadata": {},
   "outputs": [
    {
     "name": "stdout",
     "output_type": "stream",
     "text": [
      "                     paper_date Neditions Npages\n",
      "0  SVENSKA DAGBLADET 2007-03-03         1    104\n",
      "1  SVENSKA DAGBLADET 1946-12-06         1     28\n",
      "2  SVENSKA DAGBLADET 1971-12-09         1     26\n",
      "3  SVENSKA DAGBLADET 2007-03-03         1    104\n",
      "4  SVENSKA DAGBLADET 1946-12-06         1     28\n",
      "5  SVENSKA DAGBLADET 1971-12-09         1     26\n"
     ]
    }
   ],
   "source": [
    "df.to_csv(r'/home/r4/Documents/quality_check_lab/neditions_npages_classifier.csv')"
   ]
  }
 ],
 "metadata": {
  "kernelspec": {
   "display_name": "Python 3",
   "language": "python",
   "name": "python3"
  },
  "language_info": {
   "codemirror_mode": {
    "name": "ipython",
    "version": 3
   },
   "file_extension": ".py",
   "mimetype": "text/x-python",
   "name": "python",
   "nbconvert_exporter": "python",
   "pygments_lexer": "ipython3",
   "version": "3.7.4"
  }
 },
 "nbformat": 4,
 "nbformat_minor": 2
}
