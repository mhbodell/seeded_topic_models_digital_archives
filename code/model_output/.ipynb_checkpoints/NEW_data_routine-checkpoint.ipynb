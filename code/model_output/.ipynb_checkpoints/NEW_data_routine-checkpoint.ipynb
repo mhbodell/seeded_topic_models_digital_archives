{
 "cells": [
  {
   "cell_type": "code",
   "execution_count": 95,
   "metadata": {},
   "outputs": [
    {
     "ename": "KeyboardInterrupt",
     "evalue": "",
     "output_type": "error",
     "traceback": [
      "\u001b[0;31m---------------------------------------------------------------------------\u001b[0m",
      "\u001b[0;31mKeyboardInterrupt\u001b[0m                         Traceback (most recent call last)",
      "\u001b[0;32m<ipython-input-95-ca443ba63461>\u001b[0m in \u001b[0;36m<module>\u001b[0;34m\u001b[0m\n\u001b[1;32m     44\u001b[0m         \u001b[0;32mfor\u001b[0m \u001b[0mi\u001b[0m \u001b[0;32min\u001b[0m \u001b[0mrange\u001b[0m\u001b[0;34m(\u001b[0m\u001b[0;36m0\u001b[0m\u001b[0;34m,\u001b[0m\u001b[0mlen\u001b[0m\u001b[0;34m(\u001b[0m\u001b[0mz_indicies\u001b[0m\u001b[0;34m)\u001b[0m\u001b[0;34m)\u001b[0m\u001b[0;34m:\u001b[0m\u001b[0;34m\u001b[0m\u001b[0;34m\u001b[0m\u001b[0m\n\u001b[1;32m     45\u001b[0m             \u001b[0;31m#print([y for y in z_indicies[0]])\u001b[0m\u001b[0;34m\u001b[0m\u001b[0;34m\u001b[0m\u001b[0;34m\u001b[0m\u001b[0m\n\u001b[0;32m---> 46\u001b[0;31m             \u001b[0mlogger2\u001b[0m\u001b[0;34m.\u001b[0m\u001b[0mwriterows\u001b[0m\u001b[0;34m(\u001b[0m\u001b[0mmap\u001b[0m\u001b[0;34m(\u001b[0m\u001b[0;32mlambda\u001b[0m \u001b[0mx\u001b[0m\u001b[0;34m:\u001b[0m \u001b[0;34m[\u001b[0m\u001b[0mx\u001b[0m\u001b[0;34m]\u001b[0m\u001b[0;34m,\u001b[0m \u001b[0mz_indicies\u001b[0m\u001b[0;34m[\u001b[0m\u001b[0;36m0\u001b[0m\u001b[0;34m]\u001b[0m\u001b[0;34m)\u001b[0m\u001b[0;34m)\u001b[0m\u001b[0;34m\u001b[0m\u001b[0;34m\u001b[0m\u001b[0m\n\u001b[0m\u001b[1;32m     47\u001b[0m \u001b[0;34m\u001b[0m\u001b[0m\n\u001b[1;32m     48\u001b[0m   \u001b[0;31m#  print(j)\u001b[0m\u001b[0;34m\u001b[0m\u001b[0;34m\u001b[0m\u001b[0;34m\u001b[0m\u001b[0m\n",
      "\u001b[0;32m<ipython-input-95-ca443ba63461>\u001b[0m in \u001b[0;36m<lambda>\u001b[0;34m(x)\u001b[0m\n\u001b[1;32m     44\u001b[0m         \u001b[0;32mfor\u001b[0m \u001b[0mi\u001b[0m \u001b[0;32min\u001b[0m \u001b[0mrange\u001b[0m\u001b[0;34m(\u001b[0m\u001b[0;36m0\u001b[0m\u001b[0;34m,\u001b[0m\u001b[0mlen\u001b[0m\u001b[0;34m(\u001b[0m\u001b[0mz_indicies\u001b[0m\u001b[0;34m)\u001b[0m\u001b[0;34m)\u001b[0m\u001b[0;34m:\u001b[0m\u001b[0;34m\u001b[0m\u001b[0;34m\u001b[0m\u001b[0m\n\u001b[1;32m     45\u001b[0m             \u001b[0;31m#print([y for y in z_indicies[0]])\u001b[0m\u001b[0;34m\u001b[0m\u001b[0;34m\u001b[0m\u001b[0;34m\u001b[0m\u001b[0m\n\u001b[0;32m---> 46\u001b[0;31m             \u001b[0mlogger2\u001b[0m\u001b[0;34m.\u001b[0m\u001b[0mwriterows\u001b[0m\u001b[0;34m(\u001b[0m\u001b[0mmap\u001b[0m\u001b[0;34m(\u001b[0m\u001b[0;32mlambda\u001b[0m \u001b[0mx\u001b[0m\u001b[0;34m:\u001b[0m \u001b[0;34m[\u001b[0m\u001b[0mx\u001b[0m\u001b[0;34m]\u001b[0m\u001b[0;34m,\u001b[0m \u001b[0mz_indicies\u001b[0m\u001b[0;34m[\u001b[0m\u001b[0;36m0\u001b[0m\u001b[0;34m]\u001b[0m\u001b[0;34m)\u001b[0m\u001b[0;34m)\u001b[0m\u001b[0;34m\u001b[0m\u001b[0;34m\u001b[0m\u001b[0m\n\u001b[0m\u001b[1;32m     47\u001b[0m \u001b[0;34m\u001b[0m\u001b[0m\n\u001b[1;32m     48\u001b[0m   \u001b[0;31m#  print(j)\u001b[0m\u001b[0;34m\u001b[0m\u001b[0;34m\u001b[0m\u001b[0;34m\u001b[0m\u001b[0m\n",
      "\u001b[0;31mKeyboardInterrupt\u001b[0m: "
     ]
    }
   ],
   "source": [
    "# import state output\n",
    "import pandas as pd \n",
    "import csv\n",
    "import codecs\n",
    "\n",
    "colnames = [\"w_\" + str(i) for i in range(0,10000)]\n",
    "\n",
    "\n",
    "\n",
    "df_chunk = pd.read_csv(r'/home/r4/Documents/bash/Runs/RunSuite2020-02-13--12_53_39/Run2020-02-13--12_53_39/Spalias/z_600.csv', \n",
    "                       chunksize=100,\n",
    "                       header=None,\n",
    "                       names=colnames,\n",
    "                      engine = 'python')\n",
    "\n",
    "j = 0\n",
    "# Each chunk is in df format\n",
    "for chunk in df_chunk:  \n",
    "    chunk_list = [] \n",
    "    chunk_indicies = [] \n",
    "    for index, row in chunk.iterrows():\n",
    "\n",
    "    # Once the data filtering is done, append the chunk to list\n",
    "        #print(index)\n",
    "        chunk_list.append(row.dropna())\n",
    "        chunk_indicies.append([index] * len(row.dropna()))\n",
    "    \n",
    "\n",
    "    z_data = pd.concat(chunk_list)\n",
    "    z_indicies = [y for x in chunk_indicies for y in x]\n",
    "    z_indicies = pd.DataFrame(z_indicies)\n",
    " #   print(z_indicies[0])\n",
    "    #print(z_indicies)\n",
    "    #print(z_data)\n",
    "    #j += 1\n",
    "\n",
    "#    with open(r'/home/r4/Documents/bash/Runs/RunSuite2020-02-13--12_53_39/Run2020-02-13--12_53_39/Spalias/z_data.csv', \"a\") as logfile:\n",
    "#        logger = csv.writer(logfile)\n",
    "#        for i in range(0,len(z_data)):\n",
    "#            logger.writerows(map(lambda x: [x], z_data))\n",
    "            \n",
    "            \n",
    "    with open(r'/home/r4/Documents/bash/Runs/RunSuite2020-02-13--12_53_39/Run2020-02-13--12_53_39/Spalias/ind.csv', \"a\") as logfile2:\n",
    "        logger2 = csv.writer(logfile2)\n",
    "        for i in range(0,len(z_indicies)):\n",
    "            #print([y for y in z_indicies[0]])\n",
    "            logger2.writerows(map(lambda x: [x], z_indicies[0]))\n",
    "\n",
    "  #  print(j)\n",
    "\n",
    "            \n",
    "    \n"
   ]
  },
  {
   "cell_type": "code",
   "execution_count": 81,
   "metadata": {},
   "outputs": [
    {
     "data": {
      "text/plain": [
       "8734"
      ]
     },
     "execution_count": 81,
     "metadata": {},
     "output_type": "execute_result"
    }
   ],
   "source": [
    "len(z_data)"
   ]
  },
  {
   "cell_type": "code",
   "execution_count": 14,
   "metadata": {},
   "outputs": [
    {
     "name": "stdout",
     "output_type": "stream",
     "text": [
      "/home/r4/Documents/bash/Runs/RunSuite2020-02-21--18_50_41/Run2020-02-21--18_50_41\n",
      "no such folder\n"
     ]
    }
   ],
   "source": [
    "import glob\n",
    "import os\n",
    "\n",
    "#os.listdir(path='.')\n",
    "list_of_folders = os.listdir('/home/r4/Documents/bash/Runs/')\n",
    "print(list_of_folders)\n",
    "ctime_list = [os.stat('/home/r4/Documents/bash/Runs/' + str(f)).st_ctime for f in list_of_folders]\n",
    "sort_ctime_ind = sorted(range(len(ctime_list)), key=lambda k: ctime_list[k])\n",
    "list_of_folders = [list_of_folders[i] for i in sort_ctime_ind[::-1]]\n",
    "latest_folder = list_of_folders[0]\n",
    "\n",
    "list_of_subfolders = glob.glob(str(latest_folder) +'/*') # * means all if need specific format then *.csv\n",
    "latest_subfolder = max(list_of_subfolders, key=os.path.getctime)\n",
    "print(latest_subfolder)\n",
    "\n",
    "list_of_subsubfolders = glob.glob(str(latest_subfolder) +'/*') # * means all if need specific format then *.csv\n",
    "#latest_subsubfolder = max(list_of_subsubfolders, key=os.path.getctime)\n",
    "\n",
    "try:\n",
    "    test = max(list_of_subsubfolders, key=os.path.getctime)\n",
    "except:\n",
    "    print('no such folder')\n",
    "\n"
   ]
  },
  {
   "cell_type": "code",
   "execution_count": 17,
   "metadata": {},
   "outputs": [
    {
     "name": "stdout",
     "output_type": "stream",
     "text": [
      "['/home/r4/Documents/bash/Runs/RunSuite2020-02-13--12_53_39', '/home/r4/Documents/bash/Runs/RunSuite2020-01-08--18_07_41', '/home/r4/Documents/bash/Runs/RunSuite2020-02-05--07_03_24', '/home/r4/Documents/bash/Runs/RunSuite2020-02-12--09_59_06', '/home/r4/Documents/bash/Runs/RunSuite2020-01-31--23_02_43', '/home/r4/Documents/bash/Runs/test', '/home/r4/Documents/bash/Runs/RunSuite2020-02-21--18_46_49', '/home/r4/Documents/bash/Runs/RunSuite2020-01-11--15_14_59', '/home/r4/Documents/bash/Runs/RunSuite2020-02-21--18_48_44', '/home/r4/Documents/bash/Runs/RunSuite2020-02-21--18_50_41', '/home/r4/Documents/bash/Runs/RunSuite2020-01-23--18_02_11', '/home/r4/Documents/bash/Runs/RunSuite2020-02-15--20_35_16', '/home/r4/Documents/bash/Runs/RunSuite2020-01-17--17_53_13', '/home/r4/Documents/bash/Runs/RunSuite2020-02-21--18_50_40']\n",
      "/home/r4/Documents/bash/Runs/RunSuite2020-02-21--18_50_41\n"
     ]
    },
    {
     "ename": "TypeError",
     "evalue": "'key' is an invalid keyword argument for print()",
     "output_type": "error",
     "traceback": [
      "\u001b[0;31m---------------------------------------------------------------------------\u001b[0m",
      "\u001b[0;31mTypeError\u001b[0m                                 Traceback (most recent call last)",
      "\u001b[0;32m<ipython-input-17-deaf3d71f6d8>\u001b[0m in \u001b[0;36m<module>\u001b[0;34m\u001b[0m\n\u001b[1;32m      1\u001b[0m \u001b[0mprint\u001b[0m\u001b[0;34m(\u001b[0m\u001b[0mlist_of_folders\u001b[0m\u001b[0;34m)\u001b[0m\u001b[0;34m\u001b[0m\u001b[0;34m\u001b[0m\u001b[0m\n\u001b[1;32m      2\u001b[0m \u001b[0mprint\u001b[0m\u001b[0;34m(\u001b[0m\u001b[0mlatest_folder\u001b[0m\u001b[0;34m)\u001b[0m\u001b[0;34m\u001b[0m\u001b[0;34m\u001b[0m\u001b[0m\n\u001b[0;32m----> 3\u001b[0;31m \u001b[0mprint\u001b[0m\u001b[0;34m(\u001b[0m\u001b[0mkey\u001b[0m\u001b[0;34m=\u001b[0m\u001b[0mos\u001b[0m\u001b[0;34m.\u001b[0m\u001b[0mpath\u001b[0m\u001b[0;34m.\u001b[0m\u001b[0mgetctime\u001b[0m\u001b[0;34m)\u001b[0m\u001b[0;34m\u001b[0m\u001b[0;34m\u001b[0m\u001b[0m\n\u001b[0m",
      "\u001b[0;31mTypeError\u001b[0m: 'key' is an invalid keyword argument for print()"
     ]
    }
   ],
   "source": [
    "print(list_of_folders)\n",
    "print(latest_folder)\n",
    "print(list_of_fileter,os.path.getctime)"
   ]
  },
  {
   "cell_type": "code",
   "execution_count": 60,
   "metadata": {},
   "outputs": [
    {
     "name": "stdout",
     "output_type": "stream",
     "text": [
      "['RunSuite2020-02-13--12_53_39', 'RunSuite2020-01-08--18_07_41', 'RunSuite2020-02-05--07_03_24', 'RunSuite2020-02-12--09_59_06', 'RunSuite2020-01-31--23_02_43', 'test', 'RunSuite2020-02-21--18_46_49', 'RunSuite2020-01-11--15_14_59', 'RunSuite2020-02-21--18_48_44', 'RunSuite2020-02-21--18_50_41', 'RunSuite2020-01-23--18_02_11', 'RunSuite2020-02-15--20_35_16', 'RunSuite2020-01-17--17_53_13', 'RunSuite2020-02-21--18_50_40']\n",
      "['RunSuite2020-02-21--18_50_41', 'RunSuite2020-02-21--18_50_40', 'RunSuite2020-02-21--18_48_44', 'RunSuite2020-02-21--18_46_49', 'test', 'RunSuite2020-02-15--20_35_16', 'RunSuite2020-02-13--12_53_39', 'RunSuite2020-02-12--09_59_06', 'RunSuite2020-02-05--07_03_24', 'RunSuite2020-01-31--23_02_43', 'RunSuite2020-01-23--18_02_11', 'RunSuite2020-01-17--17_53_13', 'RunSuite2020-01-11--15_14_59', 'RunSuite2020-01-08--18_07_41']\n"
     ]
    }
   ],
   "source": [
    "list_of_folders = os.listdir('/home/r4/Documents/bash/Runs/')\n",
    "print(list_of_folders)\n",
    "ctime_list = [os.stat('/home/r4/Documents/bash/Runs/' + str(f)).st_ctime for f in list_of_folders]\n",
    "sort_ctime_ind = sorted(range(len(ctime_list)), key=lambda k: ctime_list[k])\n",
    "list_of_folders = [list_of_folders[i] for i in sort_ctime_ind[::-1]]\n",
    "print(list_of_folders)\n"
   ]
  },
  {
   "cell_type": "code",
   "execution_count": 58,
   "metadata": {},
   "outputs": [
    {
     "name": "stdout",
     "output_type": "stream",
     "text": [
      "[1582308088.9763143, 1582307712.046606, 1582307440.0202606, 1582307324.532963, 1582307209.3536642, 1582307069.1345181, 1581795316.7479658, 1581594819.765599, 1581497946.6535277, 1580882604.8198304, 1580508163.4555693, 1579798931.0662928, 1579279993.0259707, 1578752099.3246055, 1578503261.6913354]\n"
     ]
    }
   ],
   "source": [
    "ctime_list = [os.stat('/home/r4/Documents/bash/Runs/' + str(f)).st_ctime for f in list_of_folders]\n",
    "sort_ctime_ind = sorted(range(len(ctime_list)), key=lambda k: ctime_list[k])\n",
    "ctime_list = [ctime_list[i] for i in sort_ctime_ind[::-1]]\n",
    "print(ctime_list)"
   ]
  },
  {
   "cell_type": "code",
   "execution_count": null,
   "metadata": {},
   "outputs": [],
   "source": []
  }
 ],
 "metadata": {
  "kernelspec": {
   "display_name": "Python 3",
   "language": "python",
   "name": "python3"
  },
  "language_info": {
   "codemirror_mode": {
    "name": "ipython",
    "version": 3
   },
   "file_extension": ".py",
   "mimetype": "text/x-python",
   "name": "python",
   "nbconvert_exporter": "python",
   "pygments_lexer": "ipython3",
   "version": "3.7.4"
  }
 },
 "nbformat": 4,
 "nbformat_minor": 2
}
