{
 "cells": [
  {
   "cell_type": "code",
   "execution_count": 1,
   "metadata": {},
   "outputs": [],
   "source": [
    "# import state output\n",
    "import pandas as pd \n",
    "\n",
    "colnames = [\"w_\" + str(i) for i in range(0,10000)]\n",
    "\n",
    "\n",
    "df_chunk = pd.read_csv(r'/home/r4/Documents/bash/Runs/RunSuite2020-02-13--12_53_39/Run2020-02-13--12_53_39/Spalias/z_600.csv', \n",
    "                       chunksize=10000,\n",
    "                       header=None,\n",
    "                       names=colnames,\n",
    "                      engine = 'python')\n"
   ]
  },
  {
   "cell_type": "code",
   "execution_count": null,
   "metadata": {
    "scrolled": true
   },
   "outputs": [],
   "source": [
    "chunk_list = []  # append each chunk df here \n",
    "chunk_indicies = [] \n",
    "# Each chunk is in df format\n",
    "for chunk in df_chunk:  \n",
    "    for index, row in chunk.iterrows():\n",
    "\n",
    "    # Once the data filtering is done, append the chunk to list\n",
    "        chunk_list.append(row.dropna())\n",
    "        chunk_indicies.append([index] * len(row.dropna()))\n",
    "\n",
    "# concat the list into dataframe \n",
    "z_data = pd.concat(chunk_list)\n"
   ]
  },
  {
   "cell_type": "code",
   "execution_count": null,
   "metadata": {},
   "outputs": [],
   "source": [
    "z_data.to_csv(r'/home/r4/Documents/bash/Runs/RunSuite2020-02-13--12_53_39/Run2020-02-13--12_53_39/Spalias/z_data.csv', index = None, header=True) #Don't forget to add '.csv' at the end of the path\n"
   ]
  },
  {
   "cell_type": "code",
   "execution_count": null,
   "metadata": {},
   "outputs": [],
   "source": [
    "z_indicies = [y for x in chunk_indicies for y in x]\n",
    "z_indicies = pd.DataFrame(z_indicies)\n",
    "z_indicies.to_csv(r'/home/r4/Documents/bash/Runs/RunSuite2020-02-13--12_53_39/Run2020-02-13--12_53_39/Spalias/z_indicies.csv', index = None, header=True) #Don't forget to add '.csv' at the end of the path"
   ]
  },
  {
   "cell_type": "code",
   "execution_count": null,
   "metadata": {},
   "outputs": [],
   "source": []
  },
  {
   "cell_type": "code",
   "execution_count": null,
   "metadata": {},
   "outputs": [],
   "source": [
    "# import state output\n",
    "import pandas as pd \n",
    "\n",
    "colnames = [\"w_\" + str(i) for i in range(0,10000)]\n",
    "\n",
    "\n",
    "df_chunk = pd.read_csv(r'/home/r4/Documents/bash/Runs/RunSuite2020-02-15--20_35_16/Run2020-02-15--20_35_16/Spalias/z_600.csv', \n",
    "                       chunksize=10000,\n",
    "                       header=None,\n",
    "                       names=colnames,\n",
    "                      engine = 'python')\n"
   ]
  },
  {
   "cell_type": "code",
   "execution_count": null,
   "metadata": {},
   "outputs": [],
   "source": [
    "chunk_list = []  # append each chunk df here \n",
    "chunk_indicies = [] \n",
    "# Each chunk is in df format\n",
    "for chunk in df_chunk:  \n",
    "    for index, row in chunk.iterrows():\n",
    "\n",
    "    # Once the data filtering is done, append the chunk to list\n",
    "        chunk_list.append(row.dropna())\n",
    "        chunk_indicies.append([index] * len(row.dropna()))\n",
    "\n",
    "# concat the list into dataframe \n",
    "z_data = pd.concat(chunk_list)\n"
   ]
  },
  {
   "cell_type": "code",
   "execution_count": null,
   "metadata": {},
   "outputs": [],
   "source": [
    "z_data.to_csv(r'/home/r4/Documents/bash/Runs/RunSuite2020-02-15--20_35_16/Run2020-02-15--20_35_16/Spalias/z_data.csv', index = None, header=True) #Don't forget to add '.csv' at the end of the path\n"
   ]
  },
  {
   "cell_type": "code",
   "execution_count": null,
   "metadata": {},
   "outputs": [],
   "source": [
    "z_indicies = [y for x in chunk_indicies for y in x]\n",
    "z_indicies = pd.DataFrame(z_indicies)\n",
    "z_indicies.to_csv(r'/home/r4/Documents/bash/Runs/RunSuite2020-02-15--20_35_16/Run2020-02-15--20_35_16/Spalias/Spalias/z_indicies.csv', index = None, header=True) #Don't forget to add '.csv' at the end of the path"
   ]
  },
  {
   "cell_type": "code",
   "execution_count": null,
   "metadata": {},
   "outputs": [],
   "source": []
  }
 ],
 "metadata": {
  "kernelspec": {
   "display_name": "Python 3",
   "language": "python",
   "name": "python3"
  },
  "language_info": {
   "codemirror_mode": {
    "name": "ipython",
    "version": 3
   },
   "file_extension": ".py",
   "mimetype": "text/x-python",
   "name": "python",
   "nbconvert_exporter": "python",
   "pygments_lexer": "ipython3",
   "version": "3.7.4"
  }
 },
 "nbformat": 4,
 "nbformat_minor": 2
}
